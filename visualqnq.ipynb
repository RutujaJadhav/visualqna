{
  "nbformat": 4,
  "nbformat_minor": 0,
  "metadata": {
    "colab": {
      "name": "visualqnq.ipynb",
      "version": "0.3.2",
      "provenance": [],
      "toc_visible": true,
      "include_colab_link": true
    },
    "kernelspec": {
      "display_name": "Python 2",
      "language": "python",
      "name": "python2"
    }
  },
  "cells": [
    {
      "cell_type": "markdown",
      "metadata": {
        "id": "view-in-github",
        "colab_type": "text"
      },
      "source": [
        "<a href=\"https://colab.research.google.com/github/RutujaJadhav/visualqna/blob/master/visualqnq.ipynb\" target=\"_parent\"><img src=\"https://colab.research.google.com/assets/colab-badge.svg\" alt=\"Open In Colab\"/></a>"
      ]
    },
    {
      "metadata": {
        "id": "JGi8CwT_VZxK",
        "colab_type": "text"
      },
      "cell_type": "markdown",
      "source": [
        "# Visual Question Answering Demo and Tutorial\n"
      ]
    },
    {
      "metadata": {
        "id": "zJpgjDmLVZxM",
        "colab_type": "text"
      },
      "cell_type": "markdown",
      "source": [
        "## Load the libraries"
      ]
    },
    {
      "metadata": {
        "id": "mwYfLFJ0VZxO",
        "colab_type": "code",
        "outputId": "a1cbcee9-5c24-4a14-9cd9-78509225207f",
        "colab": {
          "base_uri": "https://localhost:8080/",
          "height": 34
        }
      },
      "cell_type": "code",
      "source": [
        "%matplotlib inline\n",
        "import warnings\n",
        "warnings.filterwarnings(\"ignore\")\n",
        "import os, argparse\n",
        "import cv2, spacy, numpy as np\n",
        "from keras.models import model_from_json\n",
        "from keras.optimizers import SGD\n",
        "from sklearn.externals import joblib\n",
        "from keras import backend as K\n",
        "from keras.utils.vis_utils import plot_model\n",
        "K.set_image_data_format('channels_first')\n",
        "#K.set_image_dim_ordering('th')"
      ],
      "execution_count": 0,
      "outputs": [
        {
          "output_type": "stream",
          "text": [
            "Using TensorFlow backend.\n"
          ],
          "name": "stderr"
        }
      ]
    },
    {
      "metadata": {
        "id": "TpdR8fv_VZxU",
        "colab_type": "text"
      },
      "cell_type": "markdown",
      "source": [
        "## Load the models and weights files\n",
        "\n",
        "Here is a link to the needed weights"
      ]
    },
    {
      "metadata": {
        "id": "Aeri1Q0FVZxU",
        "colab_type": "code",
        "colab": {}
      },
      "cell_type": "code",
      "source": [
        "# File paths for the model, all of these except the CNN Weights are \n",
        "# provided in the repo, See the models/CNN/README.md to download VGG weights\n",
        "VQA_model_file_name      = 'models/VQA/VQA_MODEL.json'\n",
        "VQA_weights_file_name   = 'models/VQA/VQA_MODEL_WEIGHTS.hdf5'\n",
        "label_encoder_file_name  = 'models/VQA/FULL_labelencoder_trainval.pkl'\n",
        "CNN_weights_file_name   = 'models/CNN/vgg16_weights.h5'\n"
      ],
      "execution_count": 0,
      "outputs": []
    },
    {
      "metadata": {
        "id": "S6ztMk4cVZxX",
        "colab_type": "text"
      },
      "cell_type": "markdown",
      "source": [
        "## Model Idea\n",
        "Classical CNN-LSTM structure \n"
      ]
    },
    {
      "metadata": {
        "id": "S21TbxSuVZxY",
        "colab_type": "text"
      },
      "cell_type": "markdown",
      "source": [
        "<img src=\"http://i.imgur.com/Za5P1ZZ.png\">\n",
        "[Source](http://arxiv.org/pdf/1505.00468v4.pdf)"
      ]
    },
    {
      "metadata": {
        "id": "mHYJOxsZVZxY",
        "colab_type": "text"
      },
      "cell_type": "markdown",
      "source": [
        "# Image features "
      ]
    },
    {
      "metadata": {
        "collapsed": true,
        "id": "ulpvnHaoVZxZ",
        "colab_type": "text"
      },
      "cell_type": "markdown",
      "source": [
        "## Pretrained VGG Net (VGG-16)\n",
        "\n",
        "While VGG Net is not the best CNN model for image features, GoogLeNet (winner 2014) and ResNet (winner 2015) have superior classification scores, but VGG Net is very versatile, simple, relatively small and more importantly portable to use. \n",
        "\n",
        "For reference here is the VGG 16 performance on ILSVRC-2012\n",
        "<img src=\"http://www.robots.ox.ac.uk/~vgg/research/very_deep/images/table_ILSVRC.png\">"
      ]
    },
    {
      "metadata": {
        "id": "OxUqRdILVZxa",
        "colab_type": "text"
      },
      "cell_type": "markdown",
      "source": [
        "## Compile the model"
      ]
    },
    {
      "metadata": {
        "id": "HU28RUuoVZxb",
        "colab_type": "code",
        "colab": {}
      },
      "cell_type": "code",
      "source": [
        "def get_image_model(CNN_weights_file_name):\n",
        "    ''' Takes the CNN weights file, and returns the VGG model update \n",
        "    with the weights. Requires the file VGG.py inside models/CNN '''\n",
        "    from models.CNN.VGG import VGG_16\n",
        "    image_model = VGG_16(CNN_weights_file_name)\n",
        "    image_model.layers.pop()\n",
        "    image_model.layers.pop()\n",
        "    # this is standard VGG 16 without the last two layers\n",
        "    sgd = SGD(lr=0.1, decay=1e-6, momentum=0.9, nesterov=True)\n",
        "    # one may experiment with \"adam\" optimizer, but the loss function for\n",
        "    # this kind of task is pretty standard\n",
        "    image_model.compile(optimizer=sgd, loss='categorical_crossentropy')\n",
        "    return image_model"
      ],
      "execution_count": 0,
      "outputs": []
    },
    {
      "metadata": {
        "id": "ZW7SWWt_VZxe",
        "colab_type": "text"
      },
      "cell_type": "markdown",
      "source": [
        "## Plot the Model\n",
        "\n",
        "Keras has a function which allows you to visualize the model in block diagram. Let's do it !"
      ]
    },
    {
      "metadata": {
        "id": "zIBhGEi8VZxf",
        "colab_type": "code",
        "colab": {}
      },
      "cell_type": "code",
      "source": [
        "model_vgg = get_image_model(CNN_weights_file_name)\n",
        "plot_model(model_vgg, to_file='model_vgg.png')"
      ],
      "execution_count": 0,
      "outputs": []
    },
    {
      "metadata": {
        "id": "DhGzB2DBVZxi",
        "colab_type": "text"
      },
      "cell_type": "markdown",
      "source": [
        "<img src=\"https://github.com/iamaaditya/VQA_Demo/blob/master/model_vgg.png?raw=1\">"
      ]
    },
    {
      "metadata": {
        "id": "A11T1R_iVZxj",
        "colab_type": "text"
      },
      "cell_type": "markdown",
      "source": [
        "## Extract Image features and word embeddings\n",
        "\n",
        "\n",
        "Extracting image features involves, taking a raw image, and running it through the model, until we reach the last layer. In this case our model is not 100% same as VGG Net, because we are not going to use the last two layer of the VGG. It is because the last layer of VGG Net is a 1000 way softmax and the second last layer is the Dropout.\n",
        "\n",
        "Thus we are extracting the 4096 Dimension image features from VGG-16\n"
      ]
    },
    {
      "metadata": {
        "id": "9g9Pp5ZMVZxk",
        "colab_type": "code",
        "colab": {}
      },
      "cell_type": "code",
      "source": [
        "def get_image_features(image_file_name):\n",
        "    ''' Runs the given image_file to VGG 16 model and returns the \n",
        "    weights (filters) as a 1, 4096 dimension vector '''\n",
        "    image_features = np.zeros((1, 4096))\n",
        "    # Magic_Number = 4096  > Comes from last layer of VGG Model\n",
        "\n",
        "    # Since VGG was trained as a image of 224x224, every new image\n",
        "    # is required to go through the same transformation\n",
        "    im = cv2.resize(cv2.imread(image_file_name), (224, 224))\n",
        "    im = im.transpose((2,0,1)) # convert the image to RGBA\n",
        "\n",
        "    \n",
        "    # this axis dimension is required because VGG was trained on a dimension\n",
        "    # of 1, 3, 224, 224 (first axis is for the batch size\n",
        "    # even though we are using only one image, we have to keep the dimensions consistent\n",
        "    im = np.expand_dims(im, axis=0) \n",
        "\n",
        "    image_features[0,:] = model_vgg.predict(im)[0]\n",
        "    return image_features\n",
        "  \n",
        "##word embeddings\n",
        "  \n",
        "def get_question_features(question):\n",
        "    ''' For a given question, a unicode string, returns the time series vector\n",
        "    with each word (token) transformed into a 300 dimension representation\n",
        "    calculated using Glove Vector '''\n",
        "    word_embeddings = spacy.load('en_vectors_web_lg')\n",
        "    tokens = word_embeddings(question)\n",
        "    question_tensor = np.zeros((1, 30, 300))\n",
        "    for j in xrange(len(tokens)):\n",
        "        question_tensor[0,j,:] = tokens[j].vector\n",
        "    return question_tensor"
      ],
      "execution_count": 0,
      "outputs": []
    },
    {
      "metadata": {
        "id": "m7O15bFVVZx3",
        "colab_type": "text"
      },
      "cell_type": "markdown",
      "source": [
        "## VQA Model\n",
        "\n",
        "VQA is a simple model which combines features from Image and Word Embeddings and runs a multiple layer perceptron."
      ]
    },
    {
      "metadata": {
        "id": "2cqnaMLrVZx5",
        "colab_type": "code",
        "colab": {}
      },
      "cell_type": "code",
      "source": [
        "def get_VQA_model(VQA_model_file_name, VQA_weights_file_name):\n",
        "    ''' Given the VQA model and its weights, compiles and returns the model '''\n",
        "\n",
        "    # thanks the keras function for loading a model from JSON, this becomes\n",
        "    # very easy to understand and work. Alternative would be to load model\n",
        "    # from binary like cPickle but then model would be obfuscated to users\n",
        "    vqa_model = model_from_json(open(VQA_model_file_name).read())\n",
        "    vqa_model.load_weights(VQA_weights_file_name)\n",
        "    vqa_model.compile(loss='categorical_crossentropy', optimizer='rmsprop')\n",
        "    return vqa_model"
      ],
      "execution_count": 0,
      "outputs": []
    },
    {
      "metadata": {
        "id": "BW2C0ph-VZx7",
        "colab_type": "code",
        "colab": {}
      },
      "cell_type": "code",
      "source": [
        "model_vqa = get_VQA_model(VQA_model_file_name, VQA_weights_file_name)\n",
        "plot_model(model_vqa, to_file='model_vqa.png')"
      ],
      "execution_count": 0,
      "outputs": []
    },
    {
      "metadata": {
        "id": "vJWMtWPNVZx9",
        "colab_type": "text"
      },
      "cell_type": "markdown",
      "source": [
        "<img src=\"https://github.com/iamaaditya/VQA_Demo/blob/master/model_vqa.png?raw=1\">"
      ]
    },
    {
      "metadata": {
        "id": "KJeB04nZVZx-",
        "colab_type": "text"
      },
      "cell_type": "markdown",
      "source": [
        "As it can be seen above the model also runs a 3 layered LSTM on the word embeddings. To get a naive result it is sufficient to feed the word embeddings directly to the merge layer, but as mentioned above model is gives close to the state-of-the-art results.\n",
        "\n",
        "Also, four layers of fully connected layers might not be required to achieve a good enough results. But I settled on this model after some experimentation, and their results beat few layers. "
      ]
    },
    {
      "metadata": {
        "id": "MKMglHteVZx_",
        "colab_type": "text"
      },
      "cell_type": "markdown",
      "source": [
        "## Ask your question\n",
        "\n",
        "Let's give a test image and a question"
      ]
    },
    {
      "metadata": {
        "id": "6rGQj3O3VZx_",
        "colab_type": "code",
        "colab": {}
      },
      "cell_type": "code",
      "source": [
        "image_file_name = 'test.jpg'\n",
        "question = u\"What vehicle is in the picture?\""
      ],
      "execution_count": 0,
      "outputs": []
    },
    {
      "metadata": {
        "id": "KRv3CUN5VZyB",
        "colab_type": "text"
      },
      "cell_type": "markdown",
      "source": [
        "# <center> What vehicle is in the picture ? </center>"
      ]
    },
    {
      "metadata": {
        "id": "u8NBhOFMVZyB",
        "colab_type": "text"
      },
      "cell_type": "markdown",
      "source": [
        "<img src=\"https://github.com/iamaaditya/VQA_Demo/blob/master/test.jpg?raw=1\">"
      ]
    },
    {
      "metadata": {
        "id": "biGVqUSFVZyC",
        "colab_type": "code",
        "colab": {}
      },
      "cell_type": "code",
      "source": [
        "# get the image features\n",
        "image_features = get_image_features(image_file_name)"
      ],
      "execution_count": 0,
      "outputs": []
    },
    {
      "metadata": {
        "id": "RZB26Ul7VZyE",
        "colab_type": "code",
        "colab": {}
      },
      "cell_type": "code",
      "source": [
        "# get the question features\n",
        "question_features = get_question_features(question)"
      ],
      "execution_count": 0,
      "outputs": []
    },
    {
      "metadata": {
        "id": "_yvm5UyJVZyF",
        "colab_type": "code",
        "outputId": "987adbc5-4cab-446d-8084-1a28cf08f163",
        "colab": {}
      },
      "cell_type": "code",
      "source": [
        "y_output = model_vqa.predict([question_features, image_features])\n",
        "\n",
        "# This task here is represented as a classification into a 1000 top answers\n",
        "# this means some of the answers were not part of training and thus would \n",
        "# not show up in the result.\n",
        "# These 1000 answers are stored in the sklearn Encoder class\n",
        "warnings.filterwarnings(\"ignore\", category=DeprecationWarning)\n",
        "labelencoder = joblib.load(label_encoder_file_name)\n",
        "for label in reversed(np.argsort(y_output)[0,-5:]):\n",
        "    print str(round(y_output[0,label]*100,2)).zfill(5), \"% \", labelencoder.inverse_transform(label)"
      ],
      "execution_count": 0,
      "outputs": [
        {
          "output_type": "stream",
          "text": [
            "78.72 %  yes\n",
            "21.28 %  no\n",
            "000.0 %  girl\n",
            "000.0 %  halloween\n",
            "000.0 %  left\n"
          ],
          "name": "stdout"
        }
      ]
    },
    {
      "metadata": {
        "id": "wBCQxvhhVZyI",
        "colab_type": "text"
      },
      "cell_type": "markdown",
      "source": [
        "## Results\n",
        "I am copying the output of the previous command, so that you can validate if your results are same as mine.\n",
        "\n",
        "**\n",
        "51.87 %  train <br/>\n",
        "031.5 %  bicycle <br/>\n",
        "03.81 %  bike <br/>\n",
        "02.91 %  bus <br/>\n",
        "02.54 %  scooter <br/>\n",
        "**"
      ]
    },
    {
      "metadata": {
        "id": "oo0he7uGVZyI",
        "colab_type": "text"
      },
      "cell_type": "markdown",
      "source": [
        "# Demo with image URL"
      ]
    },
    {
      "metadata": {
        "id": "CEWpCp_QVZyJ",
        "colab_type": "text"
      },
      "cell_type": "markdown",
      "source": [
        "Since cv2.imread cannot read an image from URL we will have to change our function `get_image_features`"
      ]
    },
    {
      "metadata": {
        "id": "ptrFwEjvVZyJ",
        "colab_type": "code",
        "colab": {}
      },
      "cell_type": "code",
      "source": [
        "def get_image_features(image_file_name):\n",
        "    ''' Runs the given image_file to VGG 16 model and returns the \n",
        "    weights (filters) as a 1, 4096 dimension vector '''\n",
        "    image_features = np.zeros((1, 4096))\n",
        "        \n",
        "    from skimage import io\n",
        "    # if you would rather not install skimage, then use cv2.VideoCapture which surprisingly can read from url\n",
        "    # see this SO answer http://answers.opencv.org/question/16385/cv2imread-a-url/?answer=16389#post-id-16389\n",
        "    im = cv2.resize(io.imread(image_file_name), (224, 224))\n",
        "    im = im.transpose((2,0,1)) # convert the image to RGBA\n",
        "\n",
        "    \n",
        "    # this axis dimension is required because VGG was trained on a dimension\n",
        "    # of 1, 3, 224, 224 (first axis is for the batch size\n",
        "    # even though we are using only one image, we have to keep the dimensions consistent\n",
        "    im = np.expand_dims(im, axis=0) \n",
        "\n",
        "    image_features[0,:] = model_vgg.predict(im)[0]\n",
        "    return image_features"
      ],
      "execution_count": 0,
      "outputs": []
    },
    {
      "metadata": {
        "id": "PNgYg-EgVZyM",
        "colab_type": "code",
        "colab": {}
      },
      "cell_type": "code",
      "source": [
        "image_file_name = \"http://www.newarkhistory.com/indparksoccerkids.jpg\"\n",
        "# get the image features\n",
        "image_features = get_image_features(image_file_name)"
      ],
      "execution_count": 0,
      "outputs": []
    },
    {
      "metadata": {
        "id": "5aeJ3NtgVZyN",
        "colab_type": "text"
      },
      "cell_type": "markdown",
      "source": [
        "Feel free to change that url to any valid image, it can be any image format. Also try to use websites which have higher bandwidth"
      ]
    },
    {
      "metadata": {
        "id": "wmESnAqzVZyP",
        "colab_type": "text"
      },
      "cell_type": "markdown",
      "source": [
        "<img src=\"http://www.newarkhistory.com/indparksoccerkids.jpg\">\n",
        "# <center> What are they playing? </center>"
      ]
    },
    {
      "metadata": {
        "id": "dzhhXQ3yVZyP",
        "colab_type": "code",
        "colab": {}
      },
      "cell_type": "code",
      "source": [
        "question = u\"What are they playing?\"\n",
        "\n",
        "# get the question features\n",
        "question_features = get_question_features(question)"
      ],
      "execution_count": 0,
      "outputs": []
    },
    {
      "metadata": {
        "id": "kp2QcfCSVZyS",
        "colab_type": "code",
        "outputId": "eaddcde1-5a44-434f-e8c1-2a316ecbbb1d",
        "colab": {}
      },
      "cell_type": "code",
      "source": [
        "y_output = model_vqa.predict([question_features, image_features])\n",
        "warnings.filterwarnings(\"ignore\", category=DeprecationWarning)\n",
        "for label in reversed(np.argsort(y_output)[0,-5:]):\n",
        "    print str(round(y_output[0,label]*100,2)).zfill(5), \"% \", labelencoder.inverse_transform(label)"
      ],
      "execution_count": 0,
      "outputs": [
        {
          "output_type": "stream",
          "text": [
            "78.72 %  yes\n",
            "21.28 %  no\n",
            "000.0 %  girl\n",
            "000.0 %  halloween\n",
            "000.0 %  left\n"
          ],
          "name": "stdout"
        }
      ]
    },
    {
      "metadata": {
        "id": "zMN2zsrnVZyU",
        "colab_type": "text"
      },
      "cell_type": "markdown",
      "source": [
        "## Result\n",
        "Copying the result to validate your output.\n",
        "\n",
        "**55.44 %  frisbee<br/>\n",
        "18.91 %  tennis<br/>\n",
        "16.95 %  baseball<br/>\n",
        "08.31 %  soccer<br/>\n",
        "00.07 %  ball <br/>\n",
        "**\n",
        "\n",
        "\n",
        "As you can see, it got this wrong, but you can see why it could be harder to guess soccer and easier to guess frisbee, lack of soccer ball and lines at the edge.\n",
        "\n",
        "Let's ask another question for the same image."
      ]
    },
    {
      "metadata": {
        "id": "-kPUMhJwVZyU",
        "colab_type": "code",
        "colab": {}
      },
      "cell_type": "code",
      "source": [
        "question = u\"Are they playing Frisbee?\"\n",
        "\n",
        "# get the question features\n",
        "question_features = get_question_features(question)"
      ],
      "execution_count": 0,
      "outputs": []
    },
    {
      "metadata": {
        "id": "v3lDyvZYVZyW",
        "colab_type": "text"
      },
      "cell_type": "markdown",
      "source": [
        "<img src=\"http://www.newarkhistory.com/indparksoccerkids.jpg\">\n",
        "# <center> Are they playing Frisbee? </center>"
      ]
    },
    {
      "metadata": {
        "id": "JeWG0AnDVZyY",
        "colab_type": "code",
        "outputId": "38a11e22-ce3b-4e21-b853-0bc5addabc78",
        "colab": {}
      },
      "cell_type": "code",
      "source": [
        "y_output = model_vqa.predict([question_features, image_features])\n",
        "\n",
        "warnings.filterwarnings(\"ignore\", category=DeprecationWarning)\n",
        "for label in reversed(np.argsort(y_output)[0,-5:]):\n",
        "    print str(round(y_output[0,label]*100,2)).zfill(5), \"% \", labelencoder.inverse_transform(label)"
      ],
      "execution_count": 0,
      "outputs": [
        {
          "output_type": "stream",
          "text": [
            "78.72 %  yes\n",
            "21.28 %  no\n",
            "000.0 %  girl\n",
            "000.0 %  halloween\n",
            "000.0 %  left\n"
          ],
          "name": "stdout"
        }
      ]
    },
    {
      "metadata": {
        "id": "LG327IksVZya",
        "colab_type": "text"
      },
      "cell_type": "markdown",
      "source": [
        "## Result\n",
        "\n",
        "**\n",
        "78.72 %  yes <br />\n",
        "21.28 %  no <br />\n",
        "000.0 %  girl <br />\n",
        "000.0 %  halloween <br />\n",
        "000.0 %  left <br />\n",
        "**"
      ]
    },
    {
      "metadata": {
        "id": "QCNfIoghVZya",
        "colab_type": "text"
      },
      "cell_type": "markdown",
      "source": [
        "As you can see, similar information about a Yes/No question elicits different response. This is an impertinent problem with `classification` tasks.\n",
        "\n",
        "Feel free to experiment with different types of questions, `count`, `color`, `location`.\n",
        "\n",
        "More interesting results are obtained when one takes a different crop of a image, instead of just scaling it to 224x224. This is again because we extract only the top level features of CNN model which was trained to classify one object in the image."
      ]
    }
  ]
}